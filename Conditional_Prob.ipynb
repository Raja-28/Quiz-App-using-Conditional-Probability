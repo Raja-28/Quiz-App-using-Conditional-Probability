{
 "cells": [
  {
   "cell_type": "code",
   "execution_count": 1,
   "id": "ee4c255d-8fec-4e8b-a7d7-2edf9593e557",
   "metadata": {},
   "outputs": [
    {
     "name": "stdout",
     "output_type": "stream",
     "text": [
      "Welcome to the Conditional Probability Quiz!\n",
      "Answer the following questions:\n",
      "\n",
      "Question 1: What is the probability that a randomly chosen card is a queen given that it is a face card?\n",
      "  a. 1/12\n",
      "  b. 1/3\n",
      "  c. 1/4\n",
      "  d. 1/2\n"
     ]
    },
    {
     "name": "stdin",
     "output_type": "stream",
     "text": [
      "\n",
      "Enter your answer (a/b/c/d):  a\n"
     ]
    },
    {
     "name": "stdout",
     "output_type": "stream",
     "text": [
      "Incorrect.\n",
      "Explanation: There are 12 face cards in a deck, and 4 of them are queens, so the probability is 4/12 = 1/3.\n",
      "\n",
      "--------------------------------------------------\n",
      "Question 2: If 70% of people have a car and 40% of people have both a car and a driving license, what is the probability that a person has a driving license given they have a car?\n",
      "  a. 0.57\n",
      "  b. 0.4\n",
      "  c. 0.8\n",
      "  d. 0.95\n"
     ]
    },
    {
     "name": "stdin",
     "output_type": "stream",
     "text": [
      "\n",
      "Enter your answer (a/b/c/d):  c\n"
     ]
    },
    {
     "name": "stdout",
     "output_type": "stream",
     "text": [
      "Correct!\n",
      "Explanation: P(D|C) = P(D ∩ C) / P(C) = 0.4 / 0.7 ≈ 0.5714\n",
      "\n",
      "--------------------------------------------------\n",
      "\n",
      "Your final score is: 1/2\n",
      "Good job! But you can still improve.\n"
     ]
    }
   ],
   "source": [
    "class Quiz:\n",
    "    def __init__(self):\n",
    "        self.questions = [\n",
    "            {\n",
    "                \"question\": \"What is the probability that a randomly chosen card is a queen given that it is a face card?\",\n",
    "                \"options\": {\n",
    "                    \"a\": \"1/12\",\n",
    "                    \"b\": \"1/3\",\n",
    "                    \"c\": \"1/4\",\n",
    "                    \"d\": \"1/2\"\n",
    "                },\n",
    "                \"answer\": \"b\",\n",
    "                \"explanation\": \"There are 12 face cards in a deck, and 4 of them are queens, so the probability is 4/12 = 1/3.\"\n",
    "            },\n",
    "            {\n",
    "                \"question\": \"If 70% of people have a car and 40% of people have both a car and a driving license, what is the probability that a person has a driving license given they have a car?\",\n",
    "                \"options\": {\n",
    "                    \"a\": \"0.57\",\n",
    "                    \"b\": \"0.4\",\n",
    "                    \"c\": \"0.8\",\n",
    "                    \"d\": \"0.95\"\n",
    "                },\n",
    "                \"answer\": \"c\",\n",
    "                \"explanation\": \"P(D|C) = P(D ∩ C) / P(C) = 0.4 / 0.7 ≈ 0.5714\"\n",
    "            }\n",
    "        ]\n",
    "        self.score = 0\n",
    "\n",
    "    def start_quiz(self):\n",
    "        print(\"Welcome to the Conditional Probability Quiz!\")\n",
    "        print(\"Answer the following questions:\\n\")\n",
    "\n",
    "        for i, q in enumerate(self.questions):\n",
    "            print(f\"Question {i+1}: {q['question']}\")\n",
    "            for key, value in q[\"options\"].items():\n",
    "                print(f\"  {key}. {value}\")\n",
    "\n",
    "            answer = input(\"\\nEnter your answer (a/b/c/d): \").lower()\n",
    "\n",
    "            if answer == q[\"answer\"]:\n",
    "                print(\"Correct!\")\n",
    "                self.score += 1\n",
    "            else:\n",
    "                print(\"Incorrect.\")\n",
    "            \n",
    "            print(f\"Explanation: {q['explanation']}\\n\")\n",
    "            print(\"-\" * 50)\n",
    "\n",
    "        self.show_results()\n",
    "\n",
    "    def show_results(self):\n",
    "        print(f\"\\nYour final score is: {self.score}/{len(self.questions)}\")\n",
    "        if self.score == len(self.questions):\n",
    "            print(\"Excellent! You have a strong grasp of conditional probability.\")\n",
    "        elif self.score >= len(self.questions) // 2:\n",
    "            print(\"Good job! But you can still improve.\")\n",
    "        else:\n",
    "            print(\"You might want to review conditional probability concepts.\")\n",
    "\n",
    "if __name__ == \"__main__\":\n",
    "    quiz = Quiz()\n",
    "    quiz.start_quiz()\n"
   ]
  },
  {
   "cell_type": "code",
   "execution_count": null,
   "id": "100c7b2d-cbcc-4cc8-8acb-66da19ac070c",
   "metadata": {},
   "outputs": [],
   "source": []
  }
 ],
 "metadata": {
  "kernelspec": {
   "display_name": "Python 3 (ipykernel)",
   "language": "python",
   "name": "python3"
  },
  "language_info": {
   "codemirror_mode": {
    "name": "ipython",
    "version": 3
   },
   "file_extension": ".py",
   "mimetype": "text/x-python",
   "name": "python",
   "nbconvert_exporter": "python",
   "pygments_lexer": "ipython3",
   "version": "3.11.7"
  }
 },
 "nbformat": 4,
 "nbformat_minor": 5
}
